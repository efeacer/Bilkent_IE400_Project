{
 "cells": [
  {
   "cell_type": "markdown",
   "metadata": {},
   "source": [
    "# IE400 Project"
   ]
  },
  {
   "cell_type": "markdown",
   "metadata": {},
   "source": [
    "## Preprocessing"
   ]
  },
  {
   "cell_type": "code",
   "execution_count": 1,
   "metadata": {},
   "outputs": [],
   "source": [
    "import pandas as pd\n",
    "import numpy as np\n",
    "import matplotlib.pyplot as plt\n",
    "import matplotlib.patches as patches"
   ]
  },
  {
   "cell_type": "code",
   "execution_count": 2,
   "metadata": {},
   "outputs": [],
   "source": [
    "points = pd.read_excel('data.xlsx', sheet_name='Points ').values\n",
    "blocks = pd.read_excel('data.xlsx', sheet_name='Blocks').iloc[:, 0:4].values[1:]"
   ]
  },
  {
   "cell_type": "code",
   "execution_count": 3,
   "metadata": {},
   "outputs": [
    {
     "data": {
      "image/png": "[encoded data removed]",
      "text/plain": [
       "<Figure size 432x288 with 1 Axes>"
      ]
     },
     "metadata": {
      "needs_background": "light"
     },
     "output_type": "display_data"
    }
   ],
   "source": [
    "fig = plt.figure()\n",
    "ax = fig.add_subplot(111)\n",
    "fig.suptitle('Electronic Circuit Board')\n",
    "\n",
    "ax.scatter(\n",
    "    x=points[:,0],\n",
    "    y=points[:,1],\n",
    "    s=5,\n",
    "    color='b',\n",
    "    marker='o'\n",
    ")\n",
    "\n",
    "for block in blocks:\n",
    "    ax.add_patch(\n",
    "        patches.Rectangle(\n",
    "            xy=(block[0], block[1]),  # point of origin.\n",
    "            width=block[2],\n",
    "            height=block[3],\n",
    "            linewidth=1,\n",
    "            edgecolor='black',\n",
    "            alpha=0.5\n",
    "        )\n",
    "    )\n",
    "    \n",
    "plt.show()"
   ]
  },
  {
   "cell_type": "code",
   "execution_count": 4,
   "metadata": {},
   "outputs": [],
   "source": [
    "min_x, min_y = min(points[:, 0]), min(points[:, 1])\n",
    "max_x, max_y = max(points[:, 0]), max(points[:, 1])\n",
    "num_points = len(points)"
   ]
  },
  {
   "cell_type": "code",
   "execution_count": 5,
   "metadata": {},
   "outputs": [],
   "source": [
    "maze = np.zeros((max_x - min_x + 1, max_y - min_y + 1))\n",
    "for block in blocks:\n",
    "    for i in range(block[0] - min_x, block[0] + block[2] + 1 - min_x):\n",
    "        for j in range(block[1] - min_y, block[1] + block[3] + 1 - min_y):\n",
    "            maze[i, j] = 1"
   ]
  },
  {
   "cell_type": "code",
   "execution_count": 6,
   "metadata": {},
   "outputs": [],
   "source": [
    "def check_cell(maze, is_visited, cell):\n",
    "    return cell[0] >= 0 and cell[0] < maze.shape[0] and cell[1] >= 0 and cell[1] < maze.shape[1] \\\n",
    "        and not maze[cell[0]][cell[1]] == 1 and not is_visited[cell[0]][cell[1]]"
   ]
  },
  {
   "cell_type": "code",
   "execution_count": 7,
   "metadata": {},
   "outputs": [],
   "source": [
    "def bfs(maze, source, dest):\n",
    "\n",
    "    if maze[source[0], source[1]] == 1 or maze[dest[0], dest[1]] == 1:\n",
    "        return float('inf'), None\n",
    "    \n",
    "    is_visited = [[False for _ in range(maze.shape[1])] for _ in range(maze.shape[0])]\n",
    "    is_visited[source[0]][source[1]] = True \n",
    "    queue = [(source, 0, [])]\n",
    "    \n",
    "    while queue != []:\n",
    "        \n",
    "        curr = queue.pop(0)\n",
    "        cell = curr[0]\n",
    "        if cell[0] == dest[0] and cell[1] == dest[1]:\n",
    "            return curr[1:]\n",
    "        \n",
    "        right_cell = [cell[0] + 1, cell[1]]\n",
    "        if check_cell(maze, is_visited, right_cell):\n",
    "            is_visited[right_cell[0]][right_cell[1]] = True\n",
    "            queue.append((right_cell, curr[1] + 1, curr[2] + [right_cell]))\n",
    "                         \n",
    "        left_cell = [cell[0] - 1, cell[1]]\n",
    "        if check_cell(maze, is_visited, left_cell):\n",
    "            is_visited[left_cell[0]][left_cell[1]] = True\n",
    "            queue.append((left_cell, curr[1] + 1, curr[2] + [left_cell]))\n",
    "                         \n",
    "        upper_cell = [cell[0], cell[1] + 1]\n",
    "        if check_cell(maze, is_visited, upper_cell):\n",
    "            is_visited[upper_cell[0]][upper_cell[1]] = True\n",
    "            queue.append((upper_cell, curr[1] + 1, curr[2] + [upper_cell]))\n",
    "                         \n",
    "        lower_cell = [cell[0], cell[1] - 1]\n",
    "        if check_cell(maze, is_visited, lower_cell):\n",
    "            is_visited[lower_cell[0]][lower_cell[1]] = True\n",
    "            queue.append((lower_cell, curr[1] + 1, curr[2] + [lower_cell]))\n",
    "                         \n",
    "    return float('inf'), None                                   "
   ]
  },
  {
   "cell_type": "code",
   "execution_count": 8,
   "metadata": {},
   "outputs": [],
   "source": [
    "def manhattan_dist(point1, point2):\n",
    "    return abs(point1[0] - point2[0]) + abs(point1[1] - point2[1])"
   ]
  },
  {
   "cell_type": "code",
   "execution_count": 9,
   "metadata": {},
   "outputs": [],
   "source": [
    "cost_matrix = np.zeros((num_points, num_points))\n",
    "for i in range(num_points):\n",
    "    for j in range(i, num_points):\n",
    "        source = [points[i][0] - min_x, points[i][1] - min_y]\n",
    "        dest = [points[j][0] - min_x, points[j][1] - min_y]\n",
    "        path_len = bfs(maze, source, dest)[0]\n",
    "        if path_len == manhattan_dist(source, dest):\n",
    "            cost_matrix[i, j] = path_len\n",
    "        else:\n",
    "            cost_matrix[i, j] = float('inf')    "
   ]
  },
  {
   "cell_type": "code",
   "execution_count": 10,
   "metadata": {},
   "outputs": [],
   "source": [
    "cost_flattened = cost_matrix[cost_matrix != 0].flatten('C')"
   ]
  },
  {
   "cell_type": "code",
   "execution_count": 11,
   "metadata": {},
   "outputs": [],
   "source": [
    "file = open('cost_flattened.txt', 'w')\n",
    "for cost in cost_flattened:\n",
    "    if cost != float('inf'):\n",
    "        file.write(str(int(cost)) + '\\n')\n",
    "    else:\n",
    "        file.write('9999999999\\n') # Some big number M  \n",
    "file.close()"
   ]
  },
  {
   "cell_type": "markdown",
   "metadata": {},
   "source": [
    "## Post Processing"
   ]
  },
  {
   "cell_type": "code",
   "execution_count": 12,
   "metadata": {},
   "outputs": [],
   "source": [
    "cplex_str = \"1 -> 14 -> 35 -> 26 -> 18 -> 22 -> 11 -> 12 -> 42 -> 30 -> 43 -> 4 -> 19 -> 38 -> 8 -> 9 -> 2 -> 23 -> 17 -> 25 -> 36 -> 24 -> 40 -> 13 -> 7 -> 41 -> 16 -> 37 -> 27 -> 49 -> 29 -> 15 -> 31 -> 21 -> 6 -> 10 -> 44 -> 3 -> 33 -> 39 -> 34 -> 32 -> 46 -> 45 -> 50 -> 20 -> 47 -> 5 -> 28 -> 48 -> \""
   ]
  },
  {
   "cell_type": "code",
   "execution_count": 13,
   "metadata": {},
   "outputs": [],
   "source": [
    "visit_order_str = cplex_str.split(' -> ')[:-1]\n",
    "visit_order = [int(node) - 1 for node in visit_order_str] \n",
    "visit_order += [visit_order[0]]"
   ]
  },
  {
   "cell_type": "code",
   "execution_count": 14,
   "metadata": {},
   "outputs": [],
   "source": [
    "circuit = []\n",
    "for i in range(num_points):\n",
    "    source_point = points[visit_order[i]]\n",
    "    source = [source_point[0] - min_x, source_point[1] - min_y]\n",
    "    dest_point = points[visit_order[i + 1]]\n",
    "    dest = [dest_point[0] - min_x, dest_point[1] - min_y]\n",
    "    circuit.append(bfs(maze, source, dest)[1])"
   ]
  },
  {
   "cell_type": "code",
   "execution_count": 15,
   "metadata": {},
   "outputs": [],
   "source": [
    "solution = []\n",
    "for subpath in circuit:\n",
    "    for node in subpath:\n",
    "        solution.append([node[0] + min_x, node[1] + min_y])\n",
    "solution = np.array(solution)"
   ]
  },
  {
   "cell_type": "code",
   "execution_count": 16,
   "metadata": {},
   "outputs": [
    {
     "data": {
      "image/png": "[encoded data removed]",
      "text/plain": [
       "<Figure size 432x288 with 1 Axes>"
      ]
     },
     "metadata": {
      "needs_background": "light"
     },
     "output_type": "display_data"
    }
   ],
   "source": [
    "fig = plt.figure()\n",
    "ax = fig.add_subplot(111)\n",
    "fig.suptitle('Drilling Path in Electronic Circuit Board')\n",
    "\n",
    "ax.scatter(\n",
    "    x=points[:,0],\n",
    "    y=points[:,1],\n",
    "    s=5,\n",
    "    color='b',\n",
    "    marker='o'\n",
    ")\n",
    "\n",
    "ax.scatter(\n",
    "    x=solution[:,0],\n",
    "    y=solution[:,1],\n",
    "    s=1,\n",
    "    color='r',\n",
    "    marker='.'\n",
    ")\n",
    "\n",
    "for block in blocks:\n",
    "    ax.add_patch(\n",
    "        patches.Rectangle(\n",
    "            xy=(block[0], block[1]),  # point of origin.\n",
    "            width=block[2],\n",
    "            height=block[3],\n",
    "            linewidth=1,\n",
    "            edgecolor='black',\n",
    "            alpha=0.5\n",
    "        )\n",
    "    )\n",
    "\n",
    "plt.show()"
   ]
  }
 ],
 "metadata": {
  "kernelspec": {
   "display_name": "Python 3",
   "language": "python",
   "name": "python3"
  },
  "language_info": {
   "codemirror_mode": {
    "name": "ipython",
    "version": 3
   },
   "file_extension": ".py",
   "mimetype": "text/x-python",
   "name": "python",
   "nbconvert_exporter": "python",
   "pygments_lexer": "ipython3",
   "version": "3.7.3"
  }
 },
 "nbformat": 4,
 "nbformat_minor": 2
}
